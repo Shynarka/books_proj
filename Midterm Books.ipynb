{
 "cells": [
  {
   "cell_type": "code",
   "execution_count": 2,
   "metadata": {},
   "outputs": [],
   "source": [
    "import pandas as pd\n",
    "import numpy as np"
   ]
  },
  {
   "cell_type": "code",
   "execution_count": 3,
   "metadata": {
    "scrolled": true
   },
   "outputs": [
    {
     "data": {
      "text/html": [
       "<div>\n",
       "<style scoped>\n",
       "    .dataframe tbody tr th:only-of-type {\n",
       "        vertical-align: middle;\n",
       "    }\n",
       "\n",
       "    .dataframe tbody tr th {\n",
       "        vertical-align: top;\n",
       "    }\n",
       "\n",
       "    .dataframe thead th {\n",
       "        text-align: right;\n",
       "    }\n",
       "</style>\n",
       "<table border=\"1\" class=\"dataframe\">\n",
       "  <thead>\n",
       "    <tr style=\"text-align: right;\">\n",
       "      <th></th>\n",
       "      <th>Publishing Year</th>\n",
       "      <th>Book Name</th>\n",
       "      <th>Author</th>\n",
       "      <th>language_code</th>\n",
       "      <th>Author_Rating</th>\n",
       "      <th>Book_average_rating</th>\n",
       "      <th>Book_ratings_count</th>\n",
       "      <th>genre</th>\n",
       "      <th>gross sales</th>\n",
       "      <th>publisher revenue</th>\n",
       "      <th>sale price</th>\n",
       "      <th>sales rank</th>\n",
       "      <th>Publisher</th>\n",
       "      <th>units sold</th>\n",
       "    </tr>\n",
       "  </thead>\n",
       "  <tbody>\n",
       "    <tr>\n",
       "      <td>0</td>\n",
       "      <td>1975.0</td>\n",
       "      <td>Beowulf</td>\n",
       "      <td>Unknown, Seamus Heaney</td>\n",
       "      <td>en-US</td>\n",
       "      <td>Novice</td>\n",
       "      <td>3.42</td>\n",
       "      <td>155903</td>\n",
       "      <td>genre fiction</td>\n",
       "      <td>34160.0</td>\n",
       "      <td>20496.0</td>\n",
       "      <td>4.88</td>\n",
       "      <td>1</td>\n",
       "      <td>HarperCollins Publishers</td>\n",
       "      <td>7000</td>\n",
       "    </tr>\n",
       "    <tr>\n",
       "      <td>1</td>\n",
       "      <td>1987.0</td>\n",
       "      <td>Batman: Year One</td>\n",
       "      <td>Frank Miller, David Mazzucchelli, Richmond Lew...</td>\n",
       "      <td>eng</td>\n",
       "      <td>Intermediate</td>\n",
       "      <td>4.23</td>\n",
       "      <td>145267</td>\n",
       "      <td>genre fiction</td>\n",
       "      <td>12437.5</td>\n",
       "      <td>7462.5</td>\n",
       "      <td>1.99</td>\n",
       "      <td>2</td>\n",
       "      <td>HarperCollins Publishers</td>\n",
       "      <td>6250</td>\n",
       "    </tr>\n",
       "    <tr>\n",
       "      <td>2</td>\n",
       "      <td>2015.0</td>\n",
       "      <td>Go Set a Watchman</td>\n",
       "      <td>Harper Lee</td>\n",
       "      <td>eng</td>\n",
       "      <td>Novice</td>\n",
       "      <td>3.31</td>\n",
       "      <td>138669</td>\n",
       "      <td>genre fiction</td>\n",
       "      <td>47795.0</td>\n",
       "      <td>28677.0</td>\n",
       "      <td>8.69</td>\n",
       "      <td>3</td>\n",
       "      <td>Amazon Digital Services,  Inc.</td>\n",
       "      <td>5500</td>\n",
       "    </tr>\n",
       "    <tr>\n",
       "      <td>3</td>\n",
       "      <td>2008.0</td>\n",
       "      <td>When You Are Engulfed in Flames</td>\n",
       "      <td>David Sedaris</td>\n",
       "      <td>en-US</td>\n",
       "      <td>Intermediate</td>\n",
       "      <td>4.04</td>\n",
       "      <td>150898</td>\n",
       "      <td>fiction</td>\n",
       "      <td>41250.0</td>\n",
       "      <td>24750.0</td>\n",
       "      <td>7.50</td>\n",
       "      <td>3</td>\n",
       "      <td>Hachette Book Group</td>\n",
       "      <td>5500</td>\n",
       "    </tr>\n",
       "    <tr>\n",
       "      <td>4</td>\n",
       "      <td>2011.0</td>\n",
       "      <td>Daughter of Smoke &amp; Bone</td>\n",
       "      <td>Laini Taylor</td>\n",
       "      <td>eng</td>\n",
       "      <td>Intermediate</td>\n",
       "      <td>4.04</td>\n",
       "      <td>198283</td>\n",
       "      <td>genre fiction</td>\n",
       "      <td>37952.5</td>\n",
       "      <td>22771.5</td>\n",
       "      <td>7.99</td>\n",
       "      <td>4</td>\n",
       "      <td>Penguin Group (USA) LLC</td>\n",
       "      <td>4750</td>\n",
       "    </tr>\n",
       "  </tbody>\n",
       "</table>\n",
       "</div>"
      ],
      "text/plain": [
       "   Publishing Year                        Book Name  \\\n",
       "0           1975.0                          Beowulf   \n",
       "1           1987.0                 Batman: Year One   \n",
       "2           2015.0                Go Set a Watchman   \n",
       "3           2008.0  When You Are Engulfed in Flames   \n",
       "4           2011.0         Daughter of Smoke & Bone   \n",
       "\n",
       "                                              Author language_code  \\\n",
       "0                             Unknown, Seamus Heaney         en-US   \n",
       "1  Frank Miller, David Mazzucchelli, Richmond Lew...           eng   \n",
       "2                                         Harper Lee           eng   \n",
       "3                                      David Sedaris         en-US   \n",
       "4                                       Laini Taylor           eng   \n",
       "\n",
       "  Author_Rating  Book_average_rating  Book_ratings_count          genre  \\\n",
       "0        Novice                 3.42              155903  genre fiction   \n",
       "1  Intermediate                 4.23              145267  genre fiction   \n",
       "2        Novice                 3.31              138669  genre fiction   \n",
       "3  Intermediate                 4.04              150898        fiction   \n",
       "4  Intermediate                 4.04              198283  genre fiction   \n",
       "\n",
       "   gross sales  publisher revenue  sale price  sales rank  \\\n",
       "0      34160.0            20496.0        4.88           1   \n",
       "1      12437.5             7462.5        1.99           2   \n",
       "2      47795.0            28677.0        8.69           3   \n",
       "3      41250.0            24750.0        7.50           3   \n",
       "4      37952.5            22771.5        7.99           4   \n",
       "\n",
       "                       Publisher   units sold  \n",
       "0        HarperCollins Publishers        7000  \n",
       "1        HarperCollins Publishers        6250  \n",
       "2  Amazon Digital Services,  Inc.        5500  \n",
       "3             Hachette Book Group        5500  \n",
       "4         Penguin Group (USA) LLC        4750  "
      ]
     },
     "execution_count": 3,
     "metadata": {},
     "output_type": "execute_result"
    }
   ],
   "source": [
    "dataset = pd.read_csv(\"Books.csv\")\n",
    "dataset.head()"
   ]
  },
  {
   "cell_type": "code",
   "execution_count": 4,
   "metadata": {},
   "outputs": [
    {
     "data": {
      "text/plain": [
       "(1070, 14)"
      ]
     },
     "execution_count": 4,
     "metadata": {},
     "output_type": "execute_result"
    }
   ],
   "source": [
    "dataset.shape"
   ]
  },
  {
   "cell_type": "code",
   "execution_count": 5,
   "metadata": {
    "scrolled": true
   },
   "outputs": [],
   "source": [
    "# dataset.info()"
   ]
  },
  {
   "cell_type": "code",
   "execution_count": 6,
   "metadata": {},
   "outputs": [
    {
     "data": {
      "text/plain": [
       "Index(['Publishing Year', 'Book Name', 'Author', 'language_code',\n",
       "       'Author_Rating', 'Book_average_rating', 'Book_ratings_count', 'genre',\n",
       "       'gross sales', 'publisher revenue', 'sale price', 'sales rank',\n",
       "       'Publisher ', 'units sold'],\n",
       "      dtype='object')"
      ]
     },
     "execution_count": 6,
     "metadata": {},
     "output_type": "execute_result"
    }
   ],
   "source": [
    "dataset.columns"
   ]
  },
  {
   "cell_type": "code",
   "execution_count": 7,
   "metadata": {
    "scrolled": true
   },
   "outputs": [
    {
     "data": {
      "text/plain": [
       "Publishing Year        float64\n",
       "Book Name               object\n",
       "Author                  object\n",
       "language_code           object\n",
       "Author_Rating           object\n",
       "Book_average_rating    float64\n",
       "Book_ratings_count       int64\n",
       "genre                   object\n",
       "gross sales            float64\n",
       "publisher revenue      float64\n",
       "sale price             float64\n",
       "sales rank               int64\n",
       "Publisher               object\n",
       "units sold               int64\n",
       "dtype: object"
      ]
     },
     "execution_count": 7,
     "metadata": {},
     "output_type": "execute_result"
    }
   ],
   "source": [
    "dataset.dtypes"
   ]
  },
  {
   "cell_type": "code",
   "execution_count": 8,
   "metadata": {
    "scrolled": true
   },
   "outputs": [
    {
     "data": {
      "text/plain": [
       "False    1047\n",
       "True       23\n",
       "Name: Book Name, dtype: int64"
      ]
     },
     "execution_count": 8,
     "metadata": {},
     "output_type": "execute_result"
    }
   ],
   "source": [
    "dataset['Book Name'].isnull().value_counts()"
   ]
  },
  {
   "cell_type": "markdown",
   "metadata": {},
   "source": [
    "### Getting rid of null values:"
   ]
  },
  {
   "cell_type": "code",
   "execution_count": 9,
   "metadata": {},
   "outputs": [
    {
     "data": {
      "text/plain": [
       "(998, 14)"
      ]
     },
     "execution_count": 9,
     "metadata": {},
     "output_type": "execute_result"
    }
   ],
   "source": [
    "dataset = dataset.dropna()\n",
    "dataset.shape"
   ]
  },
  {
   "cell_type": "code",
   "execution_count": 10,
   "metadata": {},
   "outputs": [],
   "source": [
    "# renaming columns\n",
    "dataset.rename(columns = {\"Publishing Year\":\"Year\",\"Book Name\":\"Name\",\"language_code\":\"Lang\",\"Publisher \":\"Publisher\"}, inplace = True)"
   ]
  },
  {
   "cell_type": "code",
   "execution_count": 11,
   "metadata": {},
   "outputs": [
    {
     "data": {
      "text/plain": [
       "dtype('int32')"
      ]
     },
     "execution_count": 11,
     "metadata": {},
     "output_type": "execute_result"
    }
   ],
   "source": [
    "dataset.Year = dataset.Year.astype(int)\n",
    "dataset.Year.dtype"
   ]
  },
  {
   "cell_type": "markdown",
   "metadata": {},
   "source": [
    "### What are the main statistical сalculations?"
   ]
  },
  {
   "cell_type": "code",
   "execution_count": 12,
   "metadata": {
    "scrolled": true
   },
   "outputs": [
    {
     "data": {
      "text/html": [
       "<div>\n",
       "<style scoped>\n",
       "    .dataframe tbody tr th:only-of-type {\n",
       "        vertical-align: middle;\n",
       "    }\n",
       "\n",
       "    .dataframe tbody tr th {\n",
       "        vertical-align: top;\n",
       "    }\n",
       "\n",
       "    .dataframe thead th {\n",
       "        text-align: right;\n",
       "    }\n",
       "</style>\n",
       "<table border=\"1\" class=\"dataframe\">\n",
       "  <thead>\n",
       "    <tr style=\"text-align: right;\">\n",
       "      <th></th>\n",
       "      <th>Year</th>\n",
       "      <th>Book_average_rating</th>\n",
       "      <th>Book_ratings_count</th>\n",
       "      <th>gross sales</th>\n",
       "      <th>publisher revenue</th>\n",
       "      <th>sale price</th>\n",
       "      <th>sales rank</th>\n",
       "      <th>units sold</th>\n",
       "    </tr>\n",
       "  </thead>\n",
       "  <tbody>\n",
       "    <tr>\n",
       "      <td>count</td>\n",
       "      <td>998.000000</td>\n",
       "      <td>998.000000</td>\n",
       "      <td>998.000000</td>\n",
       "      <td>998.00000</td>\n",
       "      <td>998.000000</td>\n",
       "      <td>998.000000</td>\n",
       "      <td>998.000000</td>\n",
       "      <td>998.000000</td>\n",
       "    </tr>\n",
       "    <tr>\n",
       "      <td>mean</td>\n",
       "      <td>1971.070140</td>\n",
       "      <td>4.003056</td>\n",
       "      <td>95500.622244</td>\n",
       "      <td>1885.08515</td>\n",
       "      <td>848.897952</td>\n",
       "      <td>4.839649</td>\n",
       "      <td>605.750501</td>\n",
       "      <td>9802.312625</td>\n",
       "    </tr>\n",
       "    <tr>\n",
       "      <td>std</td>\n",
       "      <td>190.019592</td>\n",
       "      <td>0.247360</td>\n",
       "      <td>31650.845116</td>\n",
       "      <td>4023.26877</td>\n",
       "      <td>2303.504061</td>\n",
       "      <td>3.585046</td>\n",
       "      <td>369.174705</td>\n",
       "      <td>15503.088302</td>\n",
       "    </tr>\n",
       "    <tr>\n",
       "      <td>min</td>\n",
       "      <td>-560.000000</td>\n",
       "      <td>2.970000</td>\n",
       "      <td>27308.000000</td>\n",
       "      <td>104.94000</td>\n",
       "      <td>0.000000</td>\n",
       "      <td>0.990000</td>\n",
       "      <td>1.000000</td>\n",
       "      <td>106.000000</td>\n",
       "    </tr>\n",
       "    <tr>\n",
       "      <td>25%</td>\n",
       "      <td>1985.000000</td>\n",
       "      <td>3.850000</td>\n",
       "      <td>70946.500000</td>\n",
       "      <td>370.88250</td>\n",
       "      <td>0.000000</td>\n",
       "      <td>1.990000</td>\n",
       "      <td>283.000000</td>\n",
       "      <td>555.000000</td>\n",
       "    </tr>\n",
       "    <tr>\n",
       "      <td>50%</td>\n",
       "      <td>2003.000000</td>\n",
       "      <td>4.010000</td>\n",
       "      <td>89901.000000</td>\n",
       "      <td>806.25000</td>\n",
       "      <td>260.619000</td>\n",
       "      <td>3.990000</td>\n",
       "      <td>591.500000</td>\n",
       "      <td>3915.000000</td>\n",
       "    </tr>\n",
       "    <tr>\n",
       "      <td>75%</td>\n",
       "      <td>2010.000000</td>\n",
       "      <td>4.170000</td>\n",
       "      <td>115596.000000</td>\n",
       "      <td>1492.96500</td>\n",
       "      <td>721.180500</td>\n",
       "      <td>6.990000</td>\n",
       "      <td>919.500000</td>\n",
       "      <td>5420.250000</td>\n",
       "    </tr>\n",
       "    <tr>\n",
       "      <td>max</td>\n",
       "      <td>2016.000000</td>\n",
       "      <td>4.770000</td>\n",
       "      <td>206792.000000</td>\n",
       "      <td>47795.00000</td>\n",
       "      <td>28677.000000</td>\n",
       "      <td>33.860000</td>\n",
       "      <td>1273.000000</td>\n",
       "      <td>61560.000000</td>\n",
       "    </tr>\n",
       "  </tbody>\n",
       "</table>\n",
       "</div>"
      ],
      "text/plain": [
       "              Year  Book_average_rating  Book_ratings_count  gross sales  \\\n",
       "count   998.000000           998.000000          998.000000    998.00000   \n",
       "mean   1971.070140             4.003056        95500.622244   1885.08515   \n",
       "std     190.019592             0.247360        31650.845116   4023.26877   \n",
       "min    -560.000000             2.970000        27308.000000    104.94000   \n",
       "25%    1985.000000             3.850000        70946.500000    370.88250   \n",
       "50%    2003.000000             4.010000        89901.000000    806.25000   \n",
       "75%    2010.000000             4.170000       115596.000000   1492.96500   \n",
       "max    2016.000000             4.770000       206792.000000  47795.00000   \n",
       "\n",
       "       publisher revenue  sale price   sales rank    units sold  \n",
       "count         998.000000  998.000000   998.000000    998.000000  \n",
       "mean          848.897952    4.839649   605.750501   9802.312625  \n",
       "std          2303.504061    3.585046   369.174705  15503.088302  \n",
       "min             0.000000    0.990000     1.000000    106.000000  \n",
       "25%             0.000000    1.990000   283.000000    555.000000  \n",
       "50%           260.619000    3.990000   591.500000   3915.000000  \n",
       "75%           721.180500    6.990000   919.500000   5420.250000  \n",
       "max         28677.000000   33.860000  1273.000000  61560.000000  "
      ]
     },
     "execution_count": 12,
     "metadata": {},
     "output_type": "execute_result"
    }
   ],
   "source": [
    "dataset.describe()"
   ]
  },
  {
   "cell_type": "markdown",
   "metadata": {},
   "source": [
    "### What are the correlation between the parameters/columns in this dataset? "
   ]
  },
  {
   "cell_type": "code",
   "execution_count": 13,
   "metadata": {},
   "outputs": [
    {
     "data": {
      "text/html": [
       "<div>\n",
       "<style scoped>\n",
       "    .dataframe tbody tr th:only-of-type {\n",
       "        vertical-align: middle;\n",
       "    }\n",
       "\n",
       "    .dataframe tbody tr th {\n",
       "        vertical-align: top;\n",
       "    }\n",
       "\n",
       "    .dataframe thead th {\n",
       "        text-align: right;\n",
       "    }\n",
       "</style>\n",
       "<table border=\"1\" class=\"dataframe\">\n",
       "  <thead>\n",
       "    <tr style=\"text-align: right;\">\n",
       "      <th></th>\n",
       "      <th>Year</th>\n",
       "      <th>Book_average_rating</th>\n",
       "      <th>Book_ratings_count</th>\n",
       "      <th>gross sales</th>\n",
       "      <th>publisher revenue</th>\n",
       "      <th>sale price</th>\n",
       "      <th>sales rank</th>\n",
       "      <th>units sold</th>\n",
       "    </tr>\n",
       "  </thead>\n",
       "  <tbody>\n",
       "    <tr>\n",
       "      <td>Year</td>\n",
       "      <td>1.000000</td>\n",
       "      <td>0.057525</td>\n",
       "      <td>-0.000284</td>\n",
       "      <td>0.007352</td>\n",
       "      <td>0.006247</td>\n",
       "      <td>0.027647</td>\n",
       "      <td>0.016711</td>\n",
       "      <td>-0.016393</td>\n",
       "    </tr>\n",
       "    <tr>\n",
       "      <td>Book_average_rating</td>\n",
       "      <td>0.057525</td>\n",
       "      <td>1.000000</td>\n",
       "      <td>0.099659</td>\n",
       "      <td>-0.050138</td>\n",
       "      <td>-0.054237</td>\n",
       "      <td>-0.013554</td>\n",
       "      <td>-0.030431</td>\n",
       "      <td>-0.000270</td>\n",
       "    </tr>\n",
       "    <tr>\n",
       "      <td>Book_ratings_count</td>\n",
       "      <td>-0.000284</td>\n",
       "      <td>0.099659</td>\n",
       "      <td>1.000000</td>\n",
       "      <td>0.498865</td>\n",
       "      <td>0.396267</td>\n",
       "      <td>-0.073152</td>\n",
       "      <td>-0.834705</td>\n",
       "      <td>-0.259968</td>\n",
       "    </tr>\n",
       "    <tr>\n",
       "      <td>gross sales</td>\n",
       "      <td>0.007352</td>\n",
       "      <td>-0.050138</td>\n",
       "      <td>0.498865</td>\n",
       "      <td>1.000000</td>\n",
       "      <td>0.911125</td>\n",
       "      <td>0.270742</td>\n",
       "      <td>-0.440192</td>\n",
       "      <td>-0.152192</td>\n",
       "    </tr>\n",
       "    <tr>\n",
       "      <td>publisher revenue</td>\n",
       "      <td>0.006247</td>\n",
       "      <td>-0.054237</td>\n",
       "      <td>0.396267</td>\n",
       "      <td>0.911125</td>\n",
       "      <td>1.000000</td>\n",
       "      <td>0.310049</td>\n",
       "      <td>-0.336351</td>\n",
       "      <td>-0.116363</td>\n",
       "    </tr>\n",
       "    <tr>\n",
       "      <td>sale price</td>\n",
       "      <td>0.027647</td>\n",
       "      <td>-0.013554</td>\n",
       "      <td>-0.073152</td>\n",
       "      <td>0.270742</td>\n",
       "      <td>0.310049</td>\n",
       "      <td>1.000000</td>\n",
       "      <td>0.078373</td>\n",
       "      <td>-0.000943</td>\n",
       "    </tr>\n",
       "    <tr>\n",
       "      <td>sales rank</td>\n",
       "      <td>0.016711</td>\n",
       "      <td>-0.030431</td>\n",
       "      <td>-0.834705</td>\n",
       "      <td>-0.440192</td>\n",
       "      <td>-0.336351</td>\n",
       "      <td>0.078373</td>\n",
       "      <td>1.000000</td>\n",
       "      <td>0.221921</td>\n",
       "    </tr>\n",
       "    <tr>\n",
       "      <td>units sold</td>\n",
       "      <td>-0.016393</td>\n",
       "      <td>-0.000270</td>\n",
       "      <td>-0.259968</td>\n",
       "      <td>-0.152192</td>\n",
       "      <td>-0.116363</td>\n",
       "      <td>-0.000943</td>\n",
       "      <td>0.221921</td>\n",
       "      <td>1.000000</td>\n",
       "    </tr>\n",
       "  </tbody>\n",
       "</table>\n",
       "</div>"
      ],
      "text/plain": [
       "                         Year  Book_average_rating  Book_ratings_count  \\\n",
       "Year                 1.000000             0.057525           -0.000284   \n",
       "Book_average_rating  0.057525             1.000000            0.099659   \n",
       "Book_ratings_count  -0.000284             0.099659            1.000000   \n",
       "gross sales          0.007352            -0.050138            0.498865   \n",
       "publisher revenue    0.006247            -0.054237            0.396267   \n",
       "sale price           0.027647            -0.013554           -0.073152   \n",
       "sales rank           0.016711            -0.030431           -0.834705   \n",
       "units sold          -0.016393            -0.000270           -0.259968   \n",
       "\n",
       "                     gross sales  publisher revenue  sale price  sales rank  \\\n",
       "Year                    0.007352           0.006247    0.027647    0.016711   \n",
       "Book_average_rating    -0.050138          -0.054237   -0.013554   -0.030431   \n",
       "Book_ratings_count      0.498865           0.396267   -0.073152   -0.834705   \n",
       "gross sales             1.000000           0.911125    0.270742   -0.440192   \n",
       "publisher revenue       0.911125           1.000000    0.310049   -0.336351   \n",
       "sale price              0.270742           0.310049    1.000000    0.078373   \n",
       "sales rank             -0.440192          -0.336351    0.078373    1.000000   \n",
       "units sold             -0.152192          -0.116363   -0.000943    0.221921   \n",
       "\n",
       "                     units sold  \n",
       "Year                  -0.016393  \n",
       "Book_average_rating   -0.000270  \n",
       "Book_ratings_count    -0.259968  \n",
       "gross sales           -0.152192  \n",
       "publisher revenue     -0.116363  \n",
       "sale price            -0.000943  \n",
       "sales rank             0.221921  \n",
       "units sold             1.000000  "
      ]
     },
     "execution_count": 13,
     "metadata": {},
     "output_type": "execute_result"
    }
   ],
   "source": [
    "corr = dataset.loc[:].corr()\n",
    "corr  # correlation rate"
   ]
  },
  {
   "cell_type": "markdown",
   "metadata": {},
   "source": [
    "### Let's visualize the correlations:"
   ]
  },
  {
   "cell_type": "code",
   "execution_count": 14,
   "metadata": {},
   "outputs": [],
   "source": [
    "import matplotlib.pyplot as plt\n",
    "import seaborn as sns"
   ]
  },
  {
   "cell_type": "code",
   "execution_count": 15,
   "metadata": {
    "scrolled": true
   },
   "outputs": [
    {
     "data": {
      "image/png": "[encoded data removed]",
      "text/plain": [
       "<Figure size 1440x1440 with 72 Axes>"
      ]
     },
     "metadata": {
      "needs_background": "light"
     },
     "output_type": "display_data"
    }
   ],
   "source": [
    "sns.pairplot(corr)\n",
    "plt.show()"
   ]
  },
  {
   "cell_type": "code",
   "execution_count": 16,
   "metadata": {},
   "outputs": [
    {
     "data": {
      "image/png": "[encoded data removed]",
      "text/plain": [
       "<Figure size 432x288 with 2 Axes>"
      ]
     },
     "metadata": {
      "needs_background": "light"
     },
     "output_type": "display_data"
    }
   ],
   "source": [
    "sns.heatmap(corr, annot = True)\n",
    "plt.show()"
   ]
  },
  {
   "cell_type": "code",
   "execution_count": 17,
   "metadata": {
    "scrolled": true
   },
   "outputs": [
    {
     "data": {
      "text/html": [
       "<div>\n",
       "<style scoped>\n",
       "    .dataframe tbody tr th:only-of-type {\n",
       "        vertical-align: middle;\n",
       "    }\n",
       "\n",
       "    .dataframe tbody tr th {\n",
       "        vertical-align: top;\n",
       "    }\n",
       "\n",
       "    .dataframe thead th {\n",
       "        text-align: right;\n",
       "    }\n",
       "</style>\n",
       "<table border=\"1\" class=\"dataframe\">\n",
       "  <thead>\n",
       "    <tr style=\"text-align: right;\">\n",
       "      <th></th>\n",
       "      <th>Year</th>\n",
       "      <th>Name</th>\n",
       "      <th>Author</th>\n",
       "      <th>Lang</th>\n",
       "      <th>Author_Rating</th>\n",
       "      <th>Book_average_rating</th>\n",
       "      <th>Book_ratings_count</th>\n",
       "      <th>genre</th>\n",
       "      <th>gross sales</th>\n",
       "      <th>publisher revenue</th>\n",
       "      <th>sale price</th>\n",
       "      <th>sales rank</th>\n",
       "      <th>Publisher</th>\n",
       "      <th>units sold</th>\n",
       "    </tr>\n",
       "  </thead>\n",
       "  <tbody>\n",
       "    <tr>\n",
       "      <td>585</td>\n",
       "      <td>2010</td>\n",
       "      <td>The Immortals of Meluha</td>\n",
       "      <td>Amish Tripathi</td>\n",
       "      <td>eng</td>\n",
       "      <td>Intermediate</td>\n",
       "      <td>4.00</td>\n",
       "      <td>62784</td>\n",
       "      <td>genre fiction</td>\n",
       "      <td>418.60</td>\n",
       "      <td>251.160</td>\n",
       "      <td>2.99</td>\n",
       "      <td>658</td>\n",
       "      <td>Amazon Digital Services,  Inc.</td>\n",
       "      <td>56808</td>\n",
       "    </tr>\n",
       "    <tr>\n",
       "      <td>465</td>\n",
       "      <td>1997</td>\n",
       "      <td>Three to Get Deadly</td>\n",
       "      <td>Janet Evanovich</td>\n",
       "      <td>en-US</td>\n",
       "      <td>Excellent</td>\n",
       "      <td>4.14</td>\n",
       "      <td>113400</td>\n",
       "      <td>genre fiction</td>\n",
       "      <td>1109.79</td>\n",
       "      <td>665.874</td>\n",
       "      <td>6.49</td>\n",
       "      <td>517</td>\n",
       "      <td>Hachette Book Group</td>\n",
       "      <td>4617</td>\n",
       "    </tr>\n",
       "    <tr>\n",
       "      <td>587</td>\n",
       "      <td>2013</td>\n",
       "      <td>Requiem</td>\n",
       "      <td>Lauren Oliver</td>\n",
       "      <td>eng</td>\n",
       "      <td>Intermediate</td>\n",
       "      <td>3.74</td>\n",
       "      <td>100593</td>\n",
       "      <td>genre fiction</td>\n",
       "      <td>698.60</td>\n",
       "      <td>0.000</td>\n",
       "      <td>4.99</td>\n",
       "      <td>659</td>\n",
       "      <td>Amazon Digital Services,  Inc.</td>\n",
       "      <td>55080</td>\n",
       "    </tr>\n",
       "  </tbody>\n",
       "</table>\n",
       "</div>"
      ],
      "text/plain": [
       "     Year                     Name           Author   Lang Author_Rating  \\\n",
       "585  2010  The Immortals of Meluha   Amish Tripathi    eng  Intermediate   \n",
       "465  1997      Three to Get Deadly  Janet Evanovich  en-US     Excellent   \n",
       "587  2013                  Requiem    Lauren Oliver    eng  Intermediate   \n",
       "\n",
       "     Book_average_rating  Book_ratings_count          genre  gross sales  \\\n",
       "585                 4.00               62784  genre fiction       418.60   \n",
       "465                 4.14              113400  genre fiction      1109.79   \n",
       "587                 3.74              100593  genre fiction       698.60   \n",
       "\n",
       "     publisher revenue  sale price  sales rank  \\\n",
       "585            251.160        2.99         658   \n",
       "465            665.874        6.49         517   \n",
       "587              0.000        4.99         659   \n",
       "\n",
       "                          Publisher  units sold  \n",
       "585  Amazon Digital Services,  Inc.       56808  \n",
       "465             Hachette Book Group        4617  \n",
       "587  Amazon Digital Services,  Inc.       55080  "
      ]
     },
     "execution_count": 17,
     "metadata": {},
     "output_type": "execute_result"
    }
   ],
   "source": [
    "dataset.sample(3)"
   ]
  },
  {
   "cell_type": "markdown",
   "metadata": {},
   "source": [
    "## Who are the publishers in this dataset?"
   ]
  },
  {
   "cell_type": "code",
   "execution_count": 103,
   "metadata": {},
   "outputs": [
    {
     "data": {
      "image/png": "[encoded data removed]",
      "text/plain": [
       "<Figure size 432x288 with 1 Axes>"
      ]
     },
     "metadata": {
      "needs_background": "light"
     },
     "output_type": "display_data"
    }
   ],
   "source": [
    "publishers = dataset['Publisher'].value_counts(normalize=False)\n",
    "publishers.plot(kind='barh', title=\"The amount of books published by each Publisher\")\n",
    "plt.show()"
   ]
  },
  {
   "cell_type": "markdown",
   "metadata": {},
   "source": [
    "### What about book languages?"
   ]
  },
  {
   "cell_type": "code",
   "execution_count": 104,
   "metadata": {
    "scrolled": true
   },
   "outputs": [
    {
     "data": {
      "text/plain": [
       "<matplotlib.axes._subplots.AxesSubplot at 0x15896a13108>"
      ]
     },
     "execution_count": 104,
     "metadata": {},
     "output_type": "execute_result"
    },
    {
     "data": {
      "image/png": "[encoded data removed]",
      "text/plain": [
       "<Figure size 432x288 with 1 Axes>"
      ]
     },
     "metadata": {
      "needs_background": "light"
     },
     "output_type": "display_data"
    }
   ],
   "source": [
    "langs = dataset.Lang.value_counts(normalize=False)\n",
    "langs.plot.bar(title=\"In what languages are these books?\", color='g')"
   ]
  },
  {
   "cell_type": "code",
   "execution_count": 105,
   "metadata": {
    "scrolled": false
   },
   "outputs": [
    {
     "data": {
      "image/png": "[encoded data removed]",
      "text/plain": [
       "<Figure size 432x288 with 1 Axes>"
      ]
     },
     "metadata": {
      "needs_background": "light"
     },
     "output_type": "display_data"
    }
   ],
   "source": [
    "sns.countplot(dataset.genre)\n",
    "plt.title('The amount of books by genre')\n",
    "plt.show()"
   ]
  },
  {
   "cell_type": "code",
   "execution_count": 60,
   "metadata": {
    "scrolled": true
   },
   "outputs": [
    {
     "data": {
      "image/png": "[encoded data removed]",
      "text/plain": [
       "<Figure size 432x288 with 1 Axes>"
      ]
     },
     "metadata": {
      "needs_background": "light"
     },
     "output_type": "display_data"
    }
   ],
   "source": [
    "sns.countplot(dataset['Author_Rating'])\n",
    "plt.title(\"The ratio of the authors rating\")\n",
    "plt.show()"
   ]
  },
  {
   "cell_type": "markdown",
   "metadata": {},
   "source": [
    "### How many books was written by each athor? \n",
    "###     ..and who had wrote the greatest amount of book?"
   ]
  },
  {
   "cell_type": "code",
   "execution_count": 121,
   "metadata": {
    "scrolled": false
   },
   "outputs": [
    {
     "data": {
      "text/plain": [
       "Stephen King                        27\n",
       "Jim Butcher                         10\n",
       "Charlaine Harris                    10\n",
       "Nicholas Sparks                     10\n",
       "Jodi Picoult                         9\n",
       "                                    ..\n",
       "Dalai Lama XIV, Howard C. Cutler     1\n",
       "Mary Roach                           1\n",
       "Edith Wharton, Nina Bawden           1\n",
       "Patrick Ness                         1\n",
       "Jaycee Dugard                        1\n",
       "Name: Author, Length: 698, dtype: int64"
      ]
     },
     "execution_count": 121,
     "metadata": {},
     "output_type": "execute_result"
    }
   ],
   "source": [
    "dataset.Author.value_counts(normalize=False)"
   ]
  },
  {
   "cell_type": "code",
   "execution_count": 126,
   "metadata": {},
   "outputs": [
    {
     "data": {
      "text/plain": [
       "1308     1\n",
       "1883     1\n",
       "1886     1\n",
       "1890     1\n",
       "1891     1\n",
       "        ..\n",
       "2006    40\n",
       "2010    41\n",
       "2009    45\n",
       "2011    54\n",
       "2012    59\n",
       "Name: Year, Length: 141, dtype: int64"
      ]
     },
     "execution_count": 126,
     "metadata": {},
     "output_type": "execute_result"
    }
   ],
   "source": [
    "dataset[dataset.Year > 0].Year.value_counts(ascending=True)\n",
    "# sns.countplot(years)"
   ]
  },
  {
   "cell_type": "code",
   "execution_count": 139,
   "metadata": {},
   "outputs": [
    {
     "data": {
      "image/png": "[encoded data removed]",
      "text/plain": [
       "<Figure size 1296x432 with 1 Axes>"
      ]
     },
     "metadata": {
      "needs_background": "light"
     },
     "output_type": "display_data"
    }
   ],
   "source": [
    "plt.figure(figsize=(18,6))\n",
    "plt.scatter(dataset[dataset.Year > 0]['Year'].value_counts().index, dataset[dataset.Year > 1000]['Year'].value_counts())\n",
    "plt.title('The amount of books per year')\n",
    "plt.show()\n",
    "# sns.countplot(dataset[dataset.Year > 1000]['Year'])\n",
    "# plt.xticks(rotation=90)\n",
    "# plt.show()"
   ]
  },
  {
   "cell_type": "markdown",
   "metadata": {},
   "source": [
    "### The best seller book is.."
   ]
  },
  {
   "cell_type": "code",
   "execution_count": 148,
   "metadata": {},
   "outputs": [
    {
     "data": {
      "text/html": [
       "<div>\n",
       "<style scoped>\n",
       "    .dataframe tbody tr th:only-of-type {\n",
       "        vertical-align: middle;\n",
       "    }\n",
       "\n",
       "    .dataframe tbody tr th {\n",
       "        vertical-align: top;\n",
       "    }\n",
       "\n",
       "    .dataframe thead th {\n",
       "        text-align: right;\n",
       "    }\n",
       "</style>\n",
       "<table border=\"1\" class=\"dataframe\">\n",
       "  <thead>\n",
       "    <tr style=\"text-align: right;\">\n",
       "      <th></th>\n",
       "      <th>Year</th>\n",
       "      <th>Name</th>\n",
       "      <th>Author</th>\n",
       "      <th>Lang</th>\n",
       "      <th>Author_Rating</th>\n",
       "      <th>Book_average_rating</th>\n",
       "      <th>Book_ratings_count</th>\n",
       "      <th>genre</th>\n",
       "      <th>gross sales</th>\n",
       "      <th>publisher revenue</th>\n",
       "      <th>sale price</th>\n",
       "      <th>sales rank</th>\n",
       "      <th>Publisher</th>\n",
       "      <th>units sold</th>\n",
       "    </tr>\n",
       "  </thead>\n",
       "  <tbody>\n",
       "    <tr>\n",
       "      <td>578</td>\n",
       "      <td>2009</td>\n",
       "      <td>New Moon: The Complete Illustrated Movie Compa...</td>\n",
       "      <td>Mark Cotta Vaz</td>\n",
       "      <td>en-US</td>\n",
       "      <td>Excellent</td>\n",
       "      <td>4.34</td>\n",
       "      <td>82399</td>\n",
       "      <td>genre fiction</td>\n",
       "      <td>1560.58</td>\n",
       "      <td>936.348</td>\n",
       "      <td>10.99</td>\n",
       "      <td>647</td>\n",
       "      <td>Penguin Group (USA) LLC</td>\n",
       "      <td>61560</td>\n",
       "    </tr>\n",
       "  </tbody>\n",
       "</table>\n",
       "</div>"
      ],
      "text/plain": [
       "     Year                                               Name          Author  \\\n",
       "578  2009  New Moon: The Complete Illustrated Movie Compa...  Mark Cotta Vaz   \n",
       "\n",
       "      Lang Author_Rating  Book_average_rating  Book_ratings_count  \\\n",
       "578  en-US     Excellent                 4.34               82399   \n",
       "\n",
       "             genre  gross sales  publisher revenue  sale price  sales rank  \\\n",
       "578  genre fiction      1560.58            936.348       10.99         647   \n",
       "\n",
       "                   Publisher  units sold  \n",
       "578  Penguin Group (USA) LLC       61560  "
      ]
     },
     "execution_count": 148,
     "metadata": {},
     "output_type": "execute_result"
    }
   ],
   "source": [
    "dataset[dataset[\"units sold\"] == dataset[\"units sold\"].max()]"
   ]
  },
  {
   "cell_type": "markdown",
   "metadata": {},
   "source": [
    "### The 5 top rated books are .."
   ]
  },
  {
   "cell_type": "code",
   "execution_count": 149,
   "metadata": {},
   "outputs": [
    {
     "data": {
      "text/html": [
       "<div>\n",
       "<style scoped>\n",
       "    .dataframe tbody tr th:only-of-type {\n",
       "        vertical-align: middle;\n",
       "    }\n",
       "\n",
       "    .dataframe tbody tr th {\n",
       "        vertical-align: top;\n",
       "    }\n",
       "\n",
       "    .dataframe thead th {\n",
       "        text-align: right;\n",
       "    }\n",
       "</style>\n",
       "<table border=\"1\" class=\"dataframe\">\n",
       "  <thead>\n",
       "    <tr style=\"text-align: right;\">\n",
       "      <th></th>\n",
       "      <th>Year</th>\n",
       "      <th>Name</th>\n",
       "      <th>Author</th>\n",
       "      <th>Lang</th>\n",
       "      <th>Author_Rating</th>\n",
       "      <th>Book_average_rating</th>\n",
       "      <th>Book_ratings_count</th>\n",
       "      <th>genre</th>\n",
       "      <th>gross sales</th>\n",
       "      <th>publisher revenue</th>\n",
       "      <th>sale price</th>\n",
       "      <th>sales rank</th>\n",
       "      <th>Publisher</th>\n",
       "      <th>units sold</th>\n",
       "    </tr>\n",
       "  </thead>\n",
       "  <tbody>\n",
       "    <tr>\n",
       "      <td>331</td>\n",
       "      <td>2014</td>\n",
       "      <td>Words of Radiance</td>\n",
       "      <td>Brandon Sanderson</td>\n",
       "      <td>eng</td>\n",
       "      <td>Famous</td>\n",
       "      <td>4.77</td>\n",
       "      <td>73572</td>\n",
       "      <td>genre fiction</td>\n",
       "      <td>741.52</td>\n",
       "      <td>444.912</td>\n",
       "      <td>2.99</td>\n",
       "      <td>354</td>\n",
       "      <td>HarperCollins Publishers</td>\n",
       "      <td>248</td>\n",
       "    </tr>\n",
       "    <tr>\n",
       "      <td>777</td>\n",
       "      <td>2016</td>\n",
       "      <td>A Court of Mist and Fury</td>\n",
       "      <td>Sarah J. Maas</td>\n",
       "      <td>eng</td>\n",
       "      <td>Famous</td>\n",
       "      <td>4.72</td>\n",
       "      <td>108384</td>\n",
       "      <td>genre fiction</td>\n",
       "      <td>1158.84</td>\n",
       "      <td>695.304</td>\n",
       "      <td>9.99</td>\n",
       "      <td>900</td>\n",
       "      <td>Simon and Schuster Digital Sales Inc</td>\n",
       "      <td>28512</td>\n",
       "    </tr>\n",
       "    <tr>\n",
       "      <td>479</td>\n",
       "      <td>1988</td>\n",
       "      <td>The Essential Calvin and Hobbes: A Calvin and ...</td>\n",
       "      <td>Bill Watterson</td>\n",
       "      <td>en-US</td>\n",
       "      <td>Famous</td>\n",
       "      <td>4.65</td>\n",
       "      <td>93001</td>\n",
       "      <td>genre fiction</td>\n",
       "      <td>166.32</td>\n",
       "      <td>0.000</td>\n",
       "      <td>0.99</td>\n",
       "      <td>530</td>\n",
       "      <td>Amazon Digital Services,  Inc.</td>\n",
       "      <td>4536</td>\n",
       "    </tr>\n",
       "    <tr>\n",
       "      <td>31</td>\n",
       "      <td>2010</td>\n",
       "      <td>The Way of Kings</td>\n",
       "      <td>Brandon Sanderson</td>\n",
       "      <td>eng</td>\n",
       "      <td>Famous</td>\n",
       "      <td>4.64</td>\n",
       "      <td>144822</td>\n",
       "      <td>genre fiction</td>\n",
       "      <td>2178.00</td>\n",
       "      <td>0.000</td>\n",
       "      <td>0.99</td>\n",
       "      <td>32</td>\n",
       "      <td>Amazon Digital Services,  Inc.</td>\n",
       "      <td>2200</td>\n",
       "    </tr>\n",
       "    <tr>\n",
       "      <td>249</td>\n",
       "      <td>1987</td>\n",
       "      <td>Calvin and Hobbes</td>\n",
       "      <td>Bill Watterson, G.B. Trudeau</td>\n",
       "      <td>en-US</td>\n",
       "      <td>Famous</td>\n",
       "      <td>4.61</td>\n",
       "      <td>117788</td>\n",
       "      <td>nonfiction</td>\n",
       "      <td>1886.22</td>\n",
       "      <td>1131.732</td>\n",
       "      <td>4.99</td>\n",
       "      <td>273</td>\n",
       "      <td>Penguin Group (USA) LLC</td>\n",
       "      <td>378</td>\n",
       "    </tr>\n",
       "  </tbody>\n",
       "</table>\n",
       "</div>"
      ],
      "text/plain": [
       "     Year                                               Name  \\\n",
       "331  2014                                  Words of Radiance   \n",
       "777  2016                           A Court of Mist and Fury   \n",
       "479  1988  The Essential Calvin and Hobbes: A Calvin and ...   \n",
       "31   2010                                   The Way of Kings   \n",
       "249  1987                                  Calvin and Hobbes   \n",
       "\n",
       "                           Author   Lang Author_Rating  Book_average_rating  \\\n",
       "331             Brandon Sanderson    eng        Famous                 4.77   \n",
       "777                 Sarah J. Maas    eng        Famous                 4.72   \n",
       "479                Bill Watterson  en-US        Famous                 4.65   \n",
       "31              Brandon Sanderson    eng        Famous                 4.64   \n",
       "249  Bill Watterson, G.B. Trudeau  en-US        Famous                 4.61   \n",
       "\n",
       "     Book_ratings_count          genre  gross sales  publisher revenue  \\\n",
       "331               73572  genre fiction       741.52            444.912   \n",
       "777              108384  genre fiction      1158.84            695.304   \n",
       "479               93001  genre fiction       166.32              0.000   \n",
       "31               144822  genre fiction      2178.00              0.000   \n",
       "249              117788     nonfiction      1886.22           1131.732   \n",
       "\n",
       "     sale price  sales rank                             Publisher  units sold  \n",
       "331        2.99         354              HarperCollins Publishers         248  \n",
       "777        9.99         900  Simon and Schuster Digital Sales Inc       28512  \n",
       "479        0.99         530        Amazon Digital Services,  Inc.        4536  \n",
       "31         0.99          32        Amazon Digital Services,  Inc.        2200  \n",
       "249        4.99         273               Penguin Group (USA) LLC         378  "
      ]
     },
     "execution_count": 149,
     "metadata": {},
     "output_type": "execute_result"
    }
   ],
   "source": [
    "# dataset[dataset[\"Book_average_rating\"] == dataset[\"Book_average_rating\"].max()]\n",
    "df = dataset.sort_values('Book_average_rating',ascending=False)\n",
    "df.head()"
   ]
  },
  {
   "cell_type": "markdown",
   "metadata": {},
   "source": [
    "### NAIVE BAYES (NB)"
   ]
  },
  {
   "cell_type": "code",
   "execution_count": 77,
   "metadata": {},
   "outputs": [],
   "source": [
    "from sklearn.naive_bayes import GaussianNB\n",
    "from sklearn.model_selection import train_test_split"
   ]
  },
  {
   "cell_type": "code",
   "execution_count": 78,
   "metadata": {},
   "outputs": [
    {
     "name": "stdout",
     "output_type": "stream",
     "text": [
      "With NB accuracy is:  0.38666666666666666\n"
     ]
    }
   ],
   "source": [
    "nb = GaussianNB()\n",
    "x,y = dataset.drop(['Name','Author','Lang','Author_Rating','genre','Publisher'],axis=1), dataset['genre']\n",
    "x_train,x_test,y_train,y_test = train_test_split(x,y,test_size = 0.3,random_state = 1)\n",
    "nb.fit(x_train,y_train)\n",
    "prediction = nb.predict(x_test)\n",
    "\n",
    "print('With NB accuracy is: ',nb.score(x_test,y_test)) # accuracy"
   ]
  },
  {
   "cell_type": "markdown",
   "metadata": {},
   "source": [
    "### K-NEAREST NEIGHBOUR (kNN) Algorithm"
   ]
  },
  {
   "cell_type": "code",
   "execution_count": 18,
   "metadata": {},
   "outputs": [],
   "source": [
    "from sklearn.neighbors import KNeighborsClassifier\n",
    "from sklearn.model_selection import train_test_split"
   ]
  },
  {
   "cell_type": "code",
   "execution_count": 91,
   "metadata": {
    "scrolled": true
   },
   "outputs": [
    {
     "name": "stdout",
     "output_type": "stream",
     "text": [
      "With KNN (K=3) accuracy is:  0.7033333333333334\n"
     ]
    }
   ],
   "source": [
    "# declaring the classifer\n",
    "knn = KNeighborsClassifier(n_neighbors = 3)\n",
    "\n",
    "# preparing the input variable x, and target output y\n",
    "x,y = dataset.drop(['Name','Author','Lang','Author_Rating','genre','Publisher'],axis=1), dataset['genre']\n",
    "\n",
    "# splitting the dataset into two parts, one for training, one for testing the model later\n",
    "x_train,x_test,y_train,y_test = train_test_split(x,y,test_size = 0.3,random_state = 1)\n",
    "\n",
    "# fitting the model using the training data\n",
    "knn.fit(x_train,y_train)\n",
    "\n",
    "# making prediction with the input from test data\n",
    "prediction = knn.predict(x_test)\n",
    "\n",
    "print('With KNN (K=3) accuracy is: ', knn.score(x_test,y_test)) # accuracy"
   ]
  },
  {
   "cell_type": "markdown",
   "metadata": {},
   "source": [
    "### Decision Tree"
   ]
  },
  {
   "cell_type": "code",
   "execution_count": 92,
   "metadata": {},
   "outputs": [],
   "source": [
    "from sklearn.tree import DecisionTreeClassifier\n",
    "from sklearn.model_selection import train_test_split"
   ]
  },
  {
   "cell_type": "code",
   "execution_count": 93,
   "metadata": {},
   "outputs": [
    {
     "name": "stdout",
     "output_type": "stream",
     "text": [
      "With Decision tree accuracy is:  0.6833333333333333\n"
     ]
    }
   ],
   "source": [
    "dtree = DecisionTreeClassifier()\n",
    "# x,y\n",
    "x_train,x_test,y_train,y_test = train_test_split(x,y,test_size = 0.3,random_state = 1)\n",
    "dtree.fit(x_train,y_train)\n",
    "prediction = dtree.predict(x_test)\n",
    "\n",
    "print('With Decision tree accuracy is: ',dtree.score(x_test,y_test)) # accuracy"
   ]
  },
  {
   "cell_type": "markdown",
   "metadata": {},
   "source": [
    "### Random Forest"
   ]
  },
  {
   "cell_type": "code",
   "execution_count": 94,
   "metadata": {},
   "outputs": [],
   "source": [
    "from sklearn.ensemble import RandomForestClassifier\n",
    "from sklearn.model_selection import train_test_split"
   ]
  },
  {
   "cell_type": "code",
   "execution_count": 96,
   "metadata": {},
   "outputs": [
    {
     "name": "stderr",
     "output_type": "stream",
     "text": [
      "C:\\Users\\Shynar\\Anaconda3\\lib\\site-packages\\sklearn\\ensemble\\forest.py:245: FutureWarning: The default value of n_estimators will change from 10 in version 0.20 to 100 in 0.22.\n",
      "  \"10 in version 0.20 to 100 in 0.22.\", FutureWarning)\n"
     ]
    }
   ],
   "source": [
    "rf = RandomForestClassifier()\n",
    "# x,y \n",
    "x_train,x_test,y_train,y_test = train_test_split(x,y,test_size = 0.3, random_state = 1)\n",
    "rf.fit(x_train,y_train)\n",
    "prediction = rf.predict(x_test)\n",
    "\n",
    "print('With Random Forest accuracy is: ', rf.score(x_test,y_test)) # accuracy"
   ]
  },
  {
   "cell_type": "markdown",
   "metadata": {},
   "source": [
    "### Support Vector Machine "
   ]
  },
  {
   "cell_type": "code",
   "execution_count": 98,
   "metadata": {},
   "outputs": [],
   "source": [
    "from sklearn.svm import SVC\n",
    "from sklearn.model_selection import train_test_split\n",
    "import numpy as np"
   ]
  },
  {
   "cell_type": "code",
   "execution_count": 102,
   "metadata": {
    "scrolled": true
   },
   "outputs": [
    {
     "ename": "TypeError",
     "evalue": "unsupported operand type(s) for -: 'str' and 'int'",
     "output_type": "error",
     "traceback": [
      "\u001b[1;31m---------------------------------------------------------------------------\u001b[0m",
      "\u001b[1;31mTypeError\u001b[0m                                 Traceback (most recent call last)",
      "\u001b[1;32m<ipython-input-102-b7c040b9b3b7>\u001b[0m in \u001b[0;36m<module>\u001b[1;34m\u001b[0m\n\u001b[0;32m      2\u001b[0m \u001b[1;33m\u001b[0m\u001b[0m\n\u001b[0;32m      3\u001b[0m \u001b[1;31m# Define the boundaries for the graphs we will draw later\u001b[0m\u001b[1;33m\u001b[0m\u001b[1;33m\u001b[0m\u001b[1;33m\u001b[0m\u001b[0m\n\u001b[1;32m----> 4\u001b[1;33m \u001b[0mx_min\u001b[0m\u001b[1;33m,\u001b[0m \u001b[0mx_max\u001b[0m \u001b[1;33m=\u001b[0m \u001b[0mX\u001b[0m\u001b[1;33m.\u001b[0m\u001b[0miloc\u001b[0m\u001b[1;33m[\u001b[0m\u001b[1;33m:\u001b[0m\u001b[1;33m,\u001b[0m\u001b[1;36m0\u001b[0m\u001b[1;33m]\u001b[0m\u001b[1;33m.\u001b[0m\u001b[0mmin\u001b[0m\u001b[1;33m(\u001b[0m\u001b[1;33m)\u001b[0m \u001b[1;33m-\u001b[0m \u001b[1;36m1\u001b[0m\u001b[1;33m,\u001b[0m \u001b[0mX\u001b[0m\u001b[1;33m.\u001b[0m\u001b[0miloc\u001b[0m\u001b[1;33m[\u001b[0m\u001b[1;33m:\u001b[0m\u001b[1;33m,\u001b[0m\u001b[1;36m0\u001b[0m\u001b[1;33m]\u001b[0m\u001b[1;33m.\u001b[0m\u001b[0mmax\u001b[0m\u001b[1;33m(\u001b[0m\u001b[1;33m)\u001b[0m \u001b[1;33m+\u001b[0m \u001b[1;36m1\u001b[0m\u001b[1;33m\u001b[0m\u001b[1;33m\u001b[0m\u001b[0m\n\u001b[0m\u001b[0;32m      5\u001b[0m \u001b[0my_min\u001b[0m\u001b[1;33m,\u001b[0m \u001b[0my_max\u001b[0m \u001b[1;33m=\u001b[0m \u001b[0mX\u001b[0m\u001b[1;33m.\u001b[0m\u001b[0miloc\u001b[0m\u001b[1;33m[\u001b[0m\u001b[1;33m:\u001b[0m\u001b[1;33m,\u001b[0m\u001b[1;36m1\u001b[0m\u001b[1;33m]\u001b[0m\u001b[1;33m.\u001b[0m\u001b[0mmin\u001b[0m\u001b[1;33m(\u001b[0m\u001b[1;33m)\u001b[0m \u001b[1;33m-\u001b[0m \u001b[1;36m1\u001b[0m\u001b[1;33m,\u001b[0m \u001b[0mX\u001b[0m\u001b[1;33m.\u001b[0m\u001b[0miloc\u001b[0m\u001b[1;33m[\u001b[0m\u001b[1;33m:\u001b[0m\u001b[1;33m,\u001b[0m\u001b[1;36m1\u001b[0m\u001b[1;33m]\u001b[0m\u001b[1;33m.\u001b[0m\u001b[0mmax\u001b[0m\u001b[1;33m(\u001b[0m\u001b[1;33m)\u001b[0m \u001b[1;33m+\u001b[0m \u001b[1;36m1\u001b[0m\u001b[1;33m\u001b[0m\u001b[1;33m\u001b[0m\u001b[0m\n\u001b[0;32m      6\u001b[0m \u001b[0mh\u001b[0m \u001b[1;33m=\u001b[0m \u001b[1;33m(\u001b[0m\u001b[0mx_max\u001b[0m \u001b[1;33m/\u001b[0m \u001b[0mx_min\u001b[0m\u001b[1;33m)\u001b[0m\u001b[1;33m/\u001b[0m\u001b[1;36m100\u001b[0m\u001b[1;33m\u001b[0m\u001b[1;33m\u001b[0m\u001b[0m\n",
      "\u001b[1;31mTypeError\u001b[0m: unsupported operand type(s) for -: 'str' and 'int'"
     ]
    }
   ],
   "source": [
    "X,y = dataset.iloc[:,1:3], pd.factorize(dataset['Book_average_rating'])[0]\n",
    "\n",
    "# Define the boundaries for the graphs we will draw later\n",
    "x_min, x_max = X.iloc[:,0].min() - 1, X.iloc[:,0].max() + 1\n",
    "y_min, y_max = X.iloc[:,1].min() - 1, X.iloc[:,1].max() + 1\n",
    "h = (x_max / x_min)/100\n",
    "xx, yy = np.meshgrid(np.arange(x_min, x_max, h),\n",
    " np.arange(y_min, y_max, h))"
   ]
  },
  {
   "cell_type": "code",
   "execution_count": null,
   "metadata": {},
   "outputs": [],
   "source": []
  }
 ],
 "metadata": {
  "kernelspec": {
   "display_name": "Python 3",
   "language": "python",
   "name": "python3"
  },
  "language_info": {
   "codemirror_mode": {
    "name": "ipython",
    "version": 3
   },
   "file_extension": ".py",
   "mimetype": "text/x-python",
   "name": "python",
   "nbconvert_exporter": "python",
   "pygments_lexer": "ipython3",
   "version": "3.7.4"
  }
 },
 "nbformat": 4,
 "nbformat_minor": 2
}
